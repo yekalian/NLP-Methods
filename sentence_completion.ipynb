{
  "nbformat": 4,
  "nbformat_minor": 0,
  "metadata": {
    "kernelspec": {
      "display_name": "Python 3",
      "language": "python",
      "name": "python3"
    },
    "language_info": {
      "codemirror_mode": {
        "name": "ipython",
        "version": 3
      },
      "file_extension": ".py",
      "mimetype": "text/x-python",
      "name": "python",
      "nbconvert_exporter": "python",
      "pygments_lexer": "ipython3",
      "version": "3.6.8"
    },
    "colab": {
      "name": "Methods for sentence completion.ipynb",
      "version": "0.3.2",
      "provenance": [],
      "include_colab_link": true
    }
  },
  "cells": [
    {
      "cell_type": "markdown",
      "metadata": {
        "id": "view-in-github",
        "colab_type": "text"
      },
      "source": [
        "<a href=\"https://colab.research.google.com/github/z1qsx/NLP-Methods_for_sentence_completion/blob/master/Methods_for_sentence_completion.ipynb\" target=\"_parent\"><img src=\"https://colab.research.google.com/assets/colab-badge.svg\" alt=\"Open In Colab\"/></a>"
      ]
    },
    {
      "cell_type": "markdown",
      "metadata": {
        "id": "x3NMaXTAUqSG",
        "colab_type": "text"
      },
      "source": [
        "# Advanced natural language processing "
      ]
    },
    {
      "cell_type": "code",
      "metadata": {
        "id": "tYuNsk44UqSI",
        "colab_type": "code",
        "colab": {}
      },
      "source": [
        "# import module\n",
        "import os,random,math\n",
        "from nltk import word_tokenize as tokenize\n",
        "import operator\n",
        "import nltk\n",
        "import gensim\n",
        "# nltk.download('punkt')\n",
        "from nltk.util import ngrams\n",
        "from nltk import ngrams \n",
        "import tensorflow as tf\n",
        "import numpy as np\n",
        "from scipy import spatial\n",
        "import pickle\n",
        "import numpy as np\n",
        "import time\n",
        "import csv\n",
        "import random\n",
        "import glob\n",
        "import re\n",
        "import argparse\n",
        "import os\n",
        "import string\n",
        "from nltk.corpus import stopwords\n",
        "from sklearn.feature_extraction.text import CountVectorizer\n",
        "from sklearn.decomposition import TruncatedSVD\n",
        "from sklearn.preprocessing import Normalizer"
      ],
      "execution_count": 0,
      "outputs": []
    },
    {
      "cell_type": "code",
      "metadata": {
        "id": "BJ7bLQsLUqSM",
        "colab_type": "code",
        "colab": {}
      },
      "source": [
        "#loading the Google news vector\n",
        "Go_model=gensim.models.KeyedVectors.load_word2vec_format('GoogleNews-vectors-negative300.bin',binary=True)"
      ],
      "execution_count": 0,
      "outputs": []
    },
    {
      "cell_type": "code",
      "metadata": {
        "id": "EwsFsHBlUqSO",
        "colab_type": "code",
        "colab": {}
      },
      "source": [
        "# import pickle\n",
        "# with open(\"t400.txt\", \"rb\") as fp:   # Unpickling\n",
        "#       t400 = pickle.load(fp)"
      ],
      "execution_count": 0,
      "outputs": []
    },
    {
      "cell_type": "markdown",
      "metadata": {
        "id": "jAqOMkOqUqSR",
        "colab_type": "text"
      },
      "source": [
        "## Data pre-processing for Similarity computing"
      ]
    },
    {
      "cell_type": "code",
      "metadata": {
        "id": "MwiPVgPuUqSS",
        "colab_type": "code",
        "colab": {}
      },
      "source": [
        "#cleaning string\n",
        "# Cleaning code reference to github\n",
        "\n",
        "def data_cleaning(string):\n",
        "    \n",
        "    string = re.sub(r\",\", \" , \", string)\n",
        "    string = re.sub(r\"!\", \" ! \", string)\n",
        "    string = re.sub(r\"\\?\", \" ? \", string)\n",
        "    string = re.sub(r\";\", \" ; \", string)\n",
        "    string = re.sub(r\"\\[([^\\]]+)\\]\", \" \", string)\n",
        "    string = re.sub(r\"\\(([^\\)]+)\\)\", \" \", string)\n",
        "    string = re.sub(r\"[^A-Za-z,!?.;]\", \" \", string)  \n",
        "    string = re.sub(r\"\\s{2,}\", \" \", string)\n",
        "    return string.strip().lower()\n",
        "\n",
        "def pre_data(input_files, data_path):\n",
        "    collect_corpus = []\n",
        "    for input_file in input_files:\n",
        "        with open(input_file, \"r\", encoding='utf-8', errors='ignore') as f:\n",
        "            print(\"loading data {}\".format(input_file))\n",
        "            corpus = data_cleaning(f.read())\n",
        "            sentences = re.split(r\"(?<!\\w\\.\\w.)(?<![A-Z][a-z]\\.)(?<=[.?;!])\\s\",corpus)\n",
        "            clean_sent = []\n",
        "            for sent in sentences:\n",
        "                s = sent.translate(str.maketrans('','',string.punctuation))\n",
        "                tokens = s.strip().split()\n",
        "                important_words = []\n",
        "                for word in tokens:\n",
        "                    #cleaning the stopwords\n",
        "                    if word  not in stopwords.words('english'):\n",
        "                        important_words.append(word)\n",
        "                        \n",
        "                if len(important_words) > 5:\n",
        "                    clean_sent.append(\" \".join(important_words)) \n",
        "        collect_corpus += clean_sent\n",
        "        \n",
        "    #saving the data\n",
        "    with open(data_path, 'wb') as f:\n",
        "        pickle.dump(all_corpus, f)\n",
        "\n",
        "    return collect_corpus "
      ],
      "execution_count": 0,
      "outputs": []
    },
    {
      "cell_type": "code",
      "metadata": {
        "id": "n6jMbIw5UqSU",
        "colab_type": "code",
        "colab": {}
      },
      "source": [
        "#computing the similarity distance\n",
        "def total_sim(vec, ques_vec):\n",
        "    score = 0\n",
        "    for v in ques_vec:\n",
        "        score += (1 - spatial.distance.cosine(vec, v))\n",
        "    return score\n",
        "\n",
        "#collecting the word embedding \n",
        "def word2vec(tokens, embeddings):\n",
        "    dim = embeddings['word'].size\n",
        "    word_vec = []\n",
        "    for word in tokens:\n",
        "        if word in embeddings:\n",
        "            word_vec.append(embeddings[word])\n",
        "        else:\n",
        "            word_vec.append(np.random.uniform(-0.25,0.25,dim))\n",
        "    return word_vec\n"
      ],
      "execution_count": 0,
      "outputs": []
    },
    {
      "cell_type": "code",
      "metadata": {
        "id": "Rd9uhzwLUqSX",
        "colab_type": "code",
        "colab": {}
      },
      "source": [
        "def load_train(data_dir,save_dir):\n",
        "    input_data = glob.glob(os.path.join(data_dir, \"*.TXT\"))\n",
        "   \n",
        "    source_data = os.path.join(save_dir, 'clean_data.pkl')\n",
        "    \n",
        "    #Loading preprocessed training data\n",
        "    if os.path.exists(source_data): \n",
        "        with open(source_data, 'rb') as f:\n",
        "            clean_corpus = pickle.load(f)\n",
        "    else: \n",
        "        #Processing training data\n",
        "        clean_corpus = pre_data(input_data, source_data)\n",
        "\n",
        "    return clean_corpus"
      ],
      "execution_count": 0,
      "outputs": []
    },
    {
      "cell_type": "code",
      "metadata": {
        "id": "XMMM9UR3UqSZ",
        "colab_type": "code",
        "outputId": "7e88824d-3f30-480e-f3ac-0710b4185c29",
        "colab": {}
      },
      "source": [
        "corpus = load_train('lab3resources/sentence-completion/Holmes_Training_Data','lab3resources/')\n",
        "\n",
        "print(\"Total training sentences: {}\".format(len(corpus)))"
      ],
      "execution_count": 0,
      "outputs": [
        {
          "output_type": "stream",
          "text": [
            "Total training sentences: 1377217\n"
          ],
          "name": "stdout"
        }
      ]
    },
    {
      "cell_type": "code",
      "metadata": {
        "id": "_CW0U9xMUqSd",
        "colab_type": "code",
        "colab": {}
      },
      "source": [
        "#loang the cleaned data\n",
        "def load_cleaned_data(path)    \n",
        "    clean_corpus =load_train(path,save_dir)\n",
        "    \n",
        "    all_doc=[]\n",
        "    for words in clean_corpus:\n",
        "        all_doc.append(tokenize(words))\n",
        "    return corpus_all"
      ],
      "execution_count": 0,
      "outputs": []
    },
    {
      "cell_type": "code",
      "metadata": {
        "id": "YWSftEs2UqSg",
        "colab_type": "code",
        "colab": {}
      },
      "source": [
        "all_doc=load_cleaned_data('lab3resources/')"
      ],
      "execution_count": 0,
      "outputs": []
    },
    {
      "cell_type": "code",
      "metadata": {
        "id": "KdojWU8AUqSi",
        "colab_type": "code",
        "colab": {}
      },
      "source": [
        "with open(\"all_doc_clean.txt\", \"wb\") as fp:   #Pickling\n",
        "    pickle.dump(all_doc, fp)"
      ],
      "execution_count": 0,
      "outputs": []
    },
    {
      "cell_type": "code",
      "metadata": {
        "id": "D3b5xgyBUqSl",
        "colab_type": "code",
        "colab": {}
      },
      "source": [
        "#Employing the cleaned data to obtain the word embedding\n",
        "from gensim.models import Word2Vec\n",
        "model = Word2Vec(all_doc, sg=1, size=100,  window=5,  min_count=5,  negative=3, sample=0.001, hs=1, workers=4)"
      ],
      "execution_count": 0,
      "outputs": []
    },
    {
      "cell_type": "markdown",
      "metadata": {
        "id": "dQ680lCjUqSn",
        "colab_type": "text"
      },
      "source": [
        "## language model"
      ]
    },
    {
      "cell_type": "markdown",
      "metadata": {
        "id": "6zhWYwBNUqSo",
        "colab_type": "text"
      },
      "source": [
        "### N-gram model"
      ]
    },
    {
      "cell_type": "code",
      "metadata": {
        "id": "DrjOtsHnUqSp",
        "colab_type": "code",
        "colab": {}
      },
      "source": [
        "from k_language_model import *  "
      ],
      "execution_count": 0,
      "outputs": []
    },
    {
      "cell_type": "code",
      "metadata": {
        "id": "aYqVVnQ7UqSs",
        "colab_type": "code",
        "outputId": "4800faf0-fe2d-484c-9aaa-4717deacb436",
        "colab": {}
      },
      "source": [
        "import os\n",
        "training,testing=get_training_testing(TRAINING_DIR,1)"
      ],
      "execution_count": 0,
      "outputs": [
        {
          "output_type": "stream",
          "text": [
            "There are 1044 files in the training directory: lab3resources/sentence-completion/Holmes_Training_Data\n"
          ],
          "name": "stdout"
        }
      ]
    },
    {
      "cell_type": "code",
      "metadata": {
        "id": "aCotK0PKUqSu",
        "colab_type": "code",
        "colab": {}
      },
      "source": [
        "# my_lag_800=language_model(files=training[:1000])"
      ],
      "execution_count": 0,
      "outputs": []
    },
    {
      "cell_type": "code",
      "metadata": {
        "id": "FeQf4o3VUqSx",
        "colab_type": "code",
        "colab": {}
      },
      "source": [
        "#training 100 to 1000 documents N-gram model\n",
        "my_lag_100=language_model(files=training[:100])\n",
        "my_lag_200=language_model(files=training[:200])\n",
        "my_lag_400=language_model(files=training[:400])\n",
        "my_lag_600=language_model(files=training[:600])\n",
        "my_lag_800=language_model(files=training[:800])\n",
        "my_lag_1000=language_model(files=training[:1000])"
      ],
      "execution_count": 0,
      "outputs": []
    },
    {
      "cell_type": "code",
      "metadata": {
        "id": "JfOnEoSqUqS0",
        "colab_type": "code",
        "colab": {}
      },
      "source": [
        "with open(\"tridata_1000.txt\", \"wb\") as fp:   #Pickling\n",
        "    pickle.dump(tr_tri, fp)"
      ],
      "execution_count": 0,
      "outputs": []
    },
    {
      "cell_type": "code",
      "metadata": {
        "id": "lSKhdN04UqS2",
        "colab_type": "code",
        "colab": {}
      },
      "source": [
        "# model_word = gensim.models.Word2Vec(t400)"
      ],
      "execution_count": 0,
      "outputs": []
    },
    {
      "cell_type": "markdown",
      "metadata": {
        "id": "LS9xMzJbUqS5",
        "colab_type": "text"
      },
      "source": [
        "### LSA"
      ]
    },
    {
      "cell_type": "code",
      "metadata": {
        "id": "rCkDVah1UqS6",
        "colab_type": "code",
        "colab": {}
      },
      "source": [
        "def build_lsa_feature(corpus, save_dir):\n",
        "    dict_file = os.path.join(save_dir, 'lsa_word_dict3.pkl')\n",
        "    if os.path.exists(dict_file):\n",
        "        print(\"Loading LSA word dictionary\")\n",
        "        with open(dict_file,'rb') as f:\n",
        "            word_dict = pickle.load(f)\n",
        "    else:\n",
        "        print(\"Building word features with LSA\")\n",
        "        \n",
        "        vectorizer = CountVectorizer(analyzer = 'word', tokenizer = None, preprocessor= None, stop_words = None, max_features = 14000)\n",
        "        bow_features = vectorizer.fit_transform(corpus)\n",
        "        bow_features.asfptype()\n",
        "    \n",
        "        \n",
        "        lsa = TruncatedSVD(200)\n",
        "        \n",
        "        word_features = lsa.fit_transform(bow_features)\n",
        "#         word_features = lsa.fit_transform(bow_features.T)\n",
        "        word_features = Normalizer(copy=False).fit_transform(word_features)\n",
        "        \n",
        "        vocabulary = vectorizer.get_feature_names()\n",
        "        word_dict = {}\n",
        "        for i, word in enumerate(vocabulary):\n",
        "            word_dict[word] = word_features[i]\n",
        "\n",
        "        with open(dict_file, 'wb') as f:\n",
        "            pickle.dump(word_dict, f)\n",
        "\n",
        "    return word_dict\n",
        "#         return bow_features"
      ],
      "execution_count": 0,
      "outputs": []
    },
    {
      "cell_type": "code",
      "metadata": {
        "id": "vq5N8fZRUqS8",
        "colab_type": "code",
        "outputId": "99353dd1-3b3a-4ea0-d829-7d62fdb2ec9e",
        "colab": {}
      },
      "source": [
        "word_dict = build_lsa_feature(corpus,'lab3resources/')"
      ],
      "execution_count": 0,
      "outputs": [
        {
          "output_type": "stream",
          "text": [
            "Building word features with LSA\n"
          ],
          "name": "stdout"
        }
      ]
    },
    {
      "cell_type": "markdown",
      "metadata": {
        "id": "EFDJRIcxUqTC",
        "colab_type": "text"
      },
      "source": [
        "## Sentence Completion Challenge"
      ]
    },
    {
      "cell_type": "code",
      "metadata": {
        "id": "pDJ1RVgKUqTE",
        "colab_type": "code",
        "outputId": "f9af50e3-083f-463c-f4b4-e6fb5e5aede0",
        "colab": {}
      },
      "source": [
        "import csv\n",
        "import pandas as pd\n",
        "import sys\n",
        "\n",
        "#reading question\n",
        "\n",
        "questions=os.path.join('testing_data.csv')\n",
        "answers=os.path.join('test_answer.csv')\n",
        "\n",
        "with open(questions) as instream:\n",
        "    csvreader=csv.reader(instream)\n",
        "    lines=list(csvreader)\n",
        "qs_df=pd.DataFrame(lines[1:],columns=lines[0])\n",
        "qs_df.head()"
      ],
      "execution_count": 0,
      "outputs": [
        {
          "output_type": "execute_result",
          "data": {
            "text/html": [
              "<div>\n",
              "<style scoped>\n",
              "    .dataframe tbody tr th:only-of-type {\n",
              "        vertical-align: middle;\n",
              "    }\n",
              "\n",
              "    .dataframe tbody tr th {\n",
              "        vertical-align: top;\n",
              "    }\n",
              "\n",
              "    .dataframe thead th {\n",
              "        text-align: right;\n",
              "    }\n",
              "</style>\n",
              "<table border=\"1\" class=\"dataframe\">\n",
              "  <thead>\n",
              "    <tr style=\"text-align: right;\">\n",
              "      <th></th>\n",
              "      <th>id</th>\n",
              "      <th>question</th>\n",
              "      <th>a)</th>\n",
              "      <th>b)</th>\n",
              "      <th>c)</th>\n",
              "      <th>d)</th>\n",
              "      <th>e)</th>\n",
              "    </tr>\n",
              "  </thead>\n",
              "  <tbody>\n",
              "    <tr>\n",
              "      <th>0</th>\n",
              "      <td>1</td>\n",
              "      <td>I have it from the same source that you are bo...</td>\n",
              "      <td>crying</td>\n",
              "      <td>instantaneously</td>\n",
              "      <td>residing</td>\n",
              "      <td>matched</td>\n",
              "      <td>walking</td>\n",
              "    </tr>\n",
              "    <tr>\n",
              "      <th>1</th>\n",
              "      <td>2</td>\n",
              "      <td>It was furnished partly as a sitting and partl...</td>\n",
              "      <td>daintily</td>\n",
              "      <td>privately</td>\n",
              "      <td>inadvertently</td>\n",
              "      <td>miserably</td>\n",
              "      <td>comfortably</td>\n",
              "    </tr>\n",
              "    <tr>\n",
              "      <th>2</th>\n",
              "      <td>3</td>\n",
              "      <td>As I descended , my old ally , the _____ , cam...</td>\n",
              "      <td>gods</td>\n",
              "      <td>moon</td>\n",
              "      <td>panther</td>\n",
              "      <td>guard</td>\n",
              "      <td>country-dance</td>\n",
              "    </tr>\n",
              "    <tr>\n",
              "      <th>3</th>\n",
              "      <td>4</td>\n",
              "      <td>We got off , _____ our fare , and the trap rat...</td>\n",
              "      <td>rubbing</td>\n",
              "      <td>doubling</td>\n",
              "      <td>paid</td>\n",
              "      <td>naming</td>\n",
              "      <td>carrying</td>\n",
              "    </tr>\n",
              "    <tr>\n",
              "      <th>4</th>\n",
              "      <td>5</td>\n",
              "      <td>He held in his hand a _____ of blue paper , sc...</td>\n",
              "      <td>supply</td>\n",
              "      <td>parcel</td>\n",
              "      <td>sign</td>\n",
              "      <td>sheet</td>\n",
              "      <td>chorus</td>\n",
              "    </tr>\n",
              "  </tbody>\n",
              "</table>\n",
              "</div>"
            ],
            "text/plain": [
              "  id                                           question        a)  \\\n",
              "0  1  I have it from the same source that you are bo...    crying   \n",
              "1  2  It was furnished partly as a sitting and partl...  daintily   \n",
              "2  3  As I descended , my old ally , the _____ , cam...      gods   \n",
              "3  4  We got off , _____ our fare , and the trap rat...   rubbing   \n",
              "4  5  He held in his hand a _____ of blue paper , sc...    supply   \n",
              "\n",
              "                b)             c)         d)             e)  \n",
              "0  instantaneously       residing    matched        walking  \n",
              "1        privately  inadvertently  miserably    comfortably  \n",
              "2             moon        panther      guard  country-dance  \n",
              "3         doubling           paid     naming       carrying  \n",
              "4           parcel           sign      sheet         chorus  "
            ]
          },
          "metadata": {
            "tags": []
          },
          "execution_count": 15
        }
      ]
    },
    {
      "cell_type": "code",
      "metadata": {
        "id": "ABbGyeFcUqTK",
        "colab_type": "code",
        "colab": {}
      },
      "source": [
        "# qs_df['cleaned'] = qs_df['question'].apply(lambda x:''.join([i for i in x if i not in string.punctuation]))"
      ],
      "execution_count": 0,
      "outputs": []
    },
    {
      "cell_type": "code",
      "metadata": {
        "id": "P9uJN_ORUqTM",
        "colab_type": "code",
        "colab": {}
      },
      "source": [
        "# qs_df['tokens']=qs_df['cleaned'].map(tokenize)\n",
        "# qs_df['context']=qs_df['tokens'].map(lambda x:get_left_context(x,1))"
      ],
      "execution_count": 0,
      "outputs": []
    },
    {
      "cell_type": "code",
      "metadata": {
        "id": "QOFF8s-gUqTP",
        "colab_type": "code",
        "colab": {}
      },
      "source": [
        "#removing punctuation\n",
        "import string\n",
        "def remove_pun(question):\n",
        "    translator = str.maketrans('','',string.punctuation)\n",
        "    question = question.translate(translator)\n",
        "    tokens = question.split()\n",
        "    return tokens"
      ],
      "execution_count": 0,
      "outputs": []
    },
    {
      "cell_type": "code",
      "metadata": {
        "id": "b2OTRDbAUqTS",
        "colab_type": "code",
        "colab": {}
      },
      "source": [
        "#geting left and right words\n",
        "def get_left_contextg(sent_tokens,window,windows=0,target=\"_____\",flag='left'):\n",
        "    found=-1\n",
        "    for i,token in enumerate(sent_tokens):\n",
        "        if token==target:\n",
        "            found=i \n",
        "            break\n",
        "    if found>-1:\n",
        "        if flag=='left':\n",
        "            str1 = \" \".join(sent_tokens[:i])\n",
        "            left_data=remove_pun(str1)\n",
        "            return left_data\n",
        "        elif flag=='right':\n",
        "            str2 = \" \".join(sent_tokens[i+1:])\n",
        "            right_data=remove_pun(str2)\n",
        "            return right_data\n",
        "    else:\n",
        "        return []"
      ],
      "execution_count": 0,
      "outputs": []
    },
    {
      "cell_type": "code",
      "metadata": {
        "id": "7b3lvLLXUqTU",
        "colab_type": "code",
        "colab": {}
      },
      "source": [
        "qs_df['tokens']=qs_df['question'].map(tokenize)\n",
        "qs_df['all_left']=qs_df['tokens'].map(lambda x:get_left_contextg(x,1))\n",
        "qs_df['all_right']=qs_df['tokens'].map(lambda x:get_left_contextg(x,1,flag='right'))"
      ],
      "execution_count": 0,
      "outputs": []
    },
    {
      "cell_type": "code",
      "metadata": {
        "id": "E4xYMkmRUqTW",
        "colab_type": "code",
        "outputId": "384003e3-ee30-4bfe-9fe5-cdab9fcf5481",
        "colab": {}
      },
      "source": [
        "qs_df.iloc[1][8][-2]+' '+qs_df.iloc[1][8][-1]"
      ],
      "execution_count": 0,
      "outputs": [
        {
          "output_type": "execute_result",
          "data": {
            "text/plain": [
              "'flowers arranged'"
            ]
          },
          "metadata": {
            "tags": []
          },
          "execution_count": 38
        }
      ]
    },
    {
      "cell_type": "code",
      "metadata": {
        "id": "RFn1b74fUqTZ",
        "colab_type": "code",
        "colab": {}
      },
      "source": [
        "def get_left_context(sent_tokens,window,windows=0,target=\"_____\"):\n",
        "    found=-1\n",
        "    for i,token in enumerate(sent_tokens):\n",
        "        if token==target:\n",
        "            found=i\n",
        "            break\n",
        "    if found>-1:\n",
        "        return sent_tokens[i-window:i+windows]\n",
        "    else:\n",
        "        return []"
      ],
      "execution_count": 0,
      "outputs": []
    },
    {
      "cell_type": "code",
      "metadata": {
        "id": "Q82wC_sUUqTb",
        "colab_type": "code",
        "colab": {}
      },
      "source": [
        "qs_df['tokens']=qs_df['question'].map(tokenize)\n",
        "qs_df['context']=qs_df['tokens'].map(lambda x:get_left_context(x,1))\n",
        "qs_df['context_later']=qs_df['tokens'].map(lambda x:get_left_context(x,-1,2))\n",
        "\n",
        "qs_df['context_laterx']=qs_df['tokens'].map(lambda x:get_left_context(x,-2,3))\n",
        "qs_df['contextx']=qs_df['tokens'].map(lambda x:get_left_context(x,2,-1))"
      ],
      "execution_count": 0,
      "outputs": []
    },
    {
      "cell_type": "code",
      "metadata": {
        "id": "UepjrzL6UqTt",
        "colab_type": "code",
        "outputId": "86fa319e-7bab-4aa2-d1e9-9f6c8bdbd38c",
        "colab": {}
      },
      "source": [
        "qs_df['tokens']=qs_df['question'].map(tokenize)\n",
        "qs_df['context']=qs_df['tokens'].map(lambda x:get_left_context(x,3)).apply(lambda x:' '.join([i for i in x if i not in string.punctuation]))\n",
        "qs_df['context_later']=qs_df['tokens'].map(lambda x:get_left_context(x,-1,4)).apply(lambda x:' '.join([i for i in x if i not in string.punctuation]))\n",
        "qs_df.head()"
      ],
      "execution_count": 0,
      "outputs": [
        {
          "output_type": "execute_result",
          "data": {
            "text/html": [
              "<div>\n",
              "<style scoped>\n",
              "    .dataframe tbody tr th:only-of-type {\n",
              "        vertical-align: middle;\n",
              "    }\n",
              "\n",
              "    .dataframe tbody tr th {\n",
              "        vertical-align: top;\n",
              "    }\n",
              "\n",
              "    .dataframe thead th {\n",
              "        text-align: right;\n",
              "    }\n",
              "</style>\n",
              "<table border=\"1\" class=\"dataframe\">\n",
              "  <thead>\n",
              "    <tr style=\"text-align: right;\">\n",
              "      <th></th>\n",
              "      <th>id</th>\n",
              "      <th>question</th>\n",
              "      <th>a)</th>\n",
              "      <th>b)</th>\n",
              "      <th>c)</th>\n",
              "      <th>d)</th>\n",
              "      <th>e)</th>\n",
              "      <th>tokens</th>\n",
              "      <th>context</th>\n",
              "      <th>context_later</th>\n",
              "    </tr>\n",
              "  </thead>\n",
              "  <tbody>\n",
              "    <tr>\n",
              "      <th>0</th>\n",
              "      <td>1</td>\n",
              "      <td>I have it from the same source that you are bo...</td>\n",
              "      <td>crying</td>\n",
              "      <td>instantaneously</td>\n",
              "      <td>residing</td>\n",
              "      <td>matched</td>\n",
              "      <td>walking</td>\n",
              "      <td>[I, have, it, from, the, same, source, that, y...</td>\n",
              "      <td>bachelor and are</td>\n",
              "      <td>alone in London</td>\n",
              "    </tr>\n",
              "    <tr>\n",
              "      <th>1</th>\n",
              "      <td>2</td>\n",
              "      <td>It was furnished partly as a sitting and partl...</td>\n",
              "      <td>daintily</td>\n",
              "      <td>privately</td>\n",
              "      <td>inadvertently</td>\n",
              "      <td>miserably</td>\n",
              "      <td>comfortably</td>\n",
              "      <td>[It, was, furnished, partly, as, a, sitting, a...</td>\n",
              "      <td>with flowers arranged</td>\n",
              "      <td>in every nook</td>\n",
              "    </tr>\n",
              "    <tr>\n",
              "      <th>2</th>\n",
              "      <td>3</td>\n",
              "      <td>As I descended , my old ally , the _____ , cam...</td>\n",
              "      <td>gods</td>\n",
              "      <td>moon</td>\n",
              "      <td>panther</td>\n",
              "      <td>guard</td>\n",
              "      <td>country-dance</td>\n",
              "      <td>[As, I, descended, ,, my, old, ally, ,, the, _...</td>\n",
              "      <td>ally the</td>\n",
              "      <td>came out</td>\n",
              "    </tr>\n",
              "    <tr>\n",
              "      <th>3</th>\n",
              "      <td>4</td>\n",
              "      <td>We got off , _____ our fare , and the trap rat...</td>\n",
              "      <td>rubbing</td>\n",
              "      <td>doubling</td>\n",
              "      <td>paid</td>\n",
              "      <td>naming</td>\n",
              "      <td>carrying</td>\n",
              "      <td>[We, got, off, ,, _____, our, fare, ,, and, th...</td>\n",
              "      <td>got off</td>\n",
              "      <td>our fare</td>\n",
              "    </tr>\n",
              "    <tr>\n",
              "      <th>4</th>\n",
              "      <td>5</td>\n",
              "      <td>He held in his hand a _____ of blue paper , sc...</td>\n",
              "      <td>supply</td>\n",
              "      <td>parcel</td>\n",
              "      <td>sign</td>\n",
              "      <td>sheet</td>\n",
              "      <td>chorus</td>\n",
              "      <td>[He, held, in, his, hand, a, _____, of, blue, ...</td>\n",
              "      <td>his hand a</td>\n",
              "      <td>of blue paper</td>\n",
              "    </tr>\n",
              "  </tbody>\n",
              "</table>\n",
              "</div>"
            ],
            "text/plain": [
              "  id                                           question        a)  \\\n",
              "0  1  I have it from the same source that you are bo...    crying   \n",
              "1  2  It was furnished partly as a sitting and partl...  daintily   \n",
              "2  3  As I descended , my old ally , the _____ , cam...      gods   \n",
              "3  4  We got off , _____ our fare , and the trap rat...   rubbing   \n",
              "4  5  He held in his hand a _____ of blue paper , sc...    supply   \n",
              "\n",
              "                b)             c)         d)             e)  \\\n",
              "0  instantaneously       residing    matched        walking   \n",
              "1        privately  inadvertently  miserably    comfortably   \n",
              "2             moon        panther      guard  country-dance   \n",
              "3         doubling           paid     naming       carrying   \n",
              "4           parcel           sign      sheet         chorus   \n",
              "\n",
              "                                              tokens                context  \\\n",
              "0  [I, have, it, from, the, same, source, that, y...       bachelor and are   \n",
              "1  [It, was, furnished, partly, as, a, sitting, a...  with flowers arranged   \n",
              "2  [As, I, descended, ,, my, old, ally, ,, the, _...               ally the   \n",
              "3  [We, got, off, ,, _____, our, fare, ,, and, th...                got off   \n",
              "4  [He, held, in, his, hand, a, _____, of, blue, ...             his hand a   \n",
              "\n",
              "     context_later  \n",
              "0  alone in London  \n",
              "1    in every nook  \n",
              "2         came out  \n",
              "3         our fare  \n",
              "4    of blue paper  "
            ]
          },
          "metadata": {
            "tags": []
          },
          "execution_count": 319
        }
      ]
    },
    {
      "cell_type": "code",
      "metadata": {
        "id": "KDq7F-BGUqT2",
        "colab_type": "code",
        "colab": {}
      },
      "source": [
        "class scc_reader():\n",
        "    \n",
        "    def __init__(self,qs=questions,ans=answers):\n",
        "        self.qs=qs\n",
        "        self.ans=ans\n",
        "        self.read_files()            \n",
        "    def read_files(self):  \n",
        "        #read in the question file\n",
        "        with open(self.qs) as instream:\n",
        "            csvreader=csv.reader(instream)\n",
        "            qlines=list(csvreader)\n",
        "#             print(qlines)\n",
        "        #store the column names as a reverse index so they can be used to reference parts of the question\n",
        "        question.colnames={item:i for i,item in enumerate(qlines[0])}   \n",
        "        #create a question instance for each line of the file (other than heading line)\n",
        "        self.questions=[question(qline) for qline in qlines[1:]]    \n",
        "        #read in the answer file\n",
        "        with open(self.ans) as instream:\n",
        "            csvreader=csv.reader(instream)\n",
        "            alines=list(csvreader)\n",
        " \n",
        "        #add answers to questions so predictions can be checked    \n",
        "        for q,aline in zip(self.questions,alines[1:]):  \n",
        "            q.add_answer(aline)\n",
        "            \n",
        "    def get_field(self,field):     \n",
        "        return [q.get_field(field) for q in self.questions] \n",
        "    \n",
        "    def predict(self,method=\"chooseA\"):\n",
        "        return [q.predict(method=method) for q in self.questions]\n",
        "    \n",
        "    def predict_and_score(self,dataset,method=\"chooseA\"):\n",
        "        scores=[q.predict_and_score(dataset,method=method) for q in self.questions]\n",
        "        return sum(scores)/len(scores)"
      ],
      "execution_count": 0,
      "outputs": []
    },
    {
      "cell_type": "code",
      "metadata": {
        "id": "IecMk8eXUqT9",
        "colab_type": "code",
        "colab": {}
      },
      "source": [
        "class question():  \n",
        "    def __init__(self,aline):\n",
        "        self.my_lag=0\n",
        "        self.fields=aline\n",
        "        self.ansd={0:'a',1:'b',2:'c',3:'d',4:'e'}\n",
        "        self.choices = ['a', 'b', 'c', 'd', 'e'] \n",
        "        \n",
        "        self.question=remove_pun(qs_df[\"question\"].iloc[int(self.fields[0])-1])     \n",
        "        \n",
        "\n",
        "    def get_field(self,field):\n",
        "        \n",
        "        return self.fields[question.colnames[field]]\n",
        "    \n",
        "    def add_answer(self,fields):\n",
        "        self.answer=fields[1]\n",
        "   \n",
        "    def trigrams(self):\n",
        "        dicts={}\n",
        "        dicts3={}\n",
        "        for num,anw in enumerate(self.fields[2:]):\n",
        "            pre_word1=qs_df.iloc[int(self.fields[0])-1][8:][0]\n",
        "            pre_word2=qs_df.iloc[int(self.fields[0])-1][8:][3]\n",
        "          \n",
        "            previous=pre_word1[0],pre_word2[0]\n",
        "            dicts=self.my_lag.trigram.get(previous,0)\n",
        "\n",
        "            if dicts!=0:\n",
        "                dicts=dicts.get(anw,0)\n",
        "                dicts3[num]=dicts           \n",
        "            else:\n",
        "                dicts3[num]=dicts\n",
        "              \n",
        "        mostlikely=sorted(list(dicts3.items()),key=operator.itemgetter(1),reverse=True)  \n",
        "          \n",
        "        return self.ansd[mostlikely[0][0]]\n",
        "    \n",
        "    \n",
        "    def trigrams_o(self):\n",
        "        dicts3={}\n",
        "        for num,anw in enumerate(self.fields[2:]):\n",
        "            pre_word1=qs_df.iloc[int(self.fields[0])-1][8][-2]\n",
        "            pre_word2=qs_df.iloc[int(self.fields[0])-1][8][-1]\n",
        "          \n",
        "            previous=pre_word1[0]+' '+pre_word2[0]\n",
        "            dicts3[num]=self.my_lag.get_prob_tri(anw,context=previous,methodparams={\"method\":\"trigram\",\"smoothing\":\"o\"})\n",
        "              \n",
        "        mostlikely=sorted(list(dicts3.items()),key=operator.itemgetter(1),reverse=True)  \n",
        "          \n",
        "        return self.ansd[mostlikely[0][0]]\n",
        "    \n",
        "    \n",
        "    def trigrams_k(self):\n",
        "        dicts3={}\n",
        "        for num,anw in enumerate(self.fields[2:]):\n",
        "            pre_word1=qs_df.iloc[int(self.fields[0])-1][8][-2]\n",
        "            pre_word2=qs_df.iloc[int(self.fields[0])-1][8][-1]\n",
        "          \n",
        "            previous=pre_word1[0]+' '+pre_word2[0]\n",
        "            dicts3[num]=self.my_lag.get_prob_tri(anw,context=previous,methodparams={\"method\":\"trigram\",\"smoothing\":\"kneser-ney\"})\n",
        "              \n",
        "        mostlikely=sorted(list(dicts3.items()),key=operator.itemgetter(1),reverse=True)  \n",
        "          \n",
        "        return self.ansd[mostlikely[0][0]]\n",
        "    \n",
        "    \n",
        "    def simility_cop(self,model_embedding):\n",
        "        scores =[]\n",
        "        tokens=remove_pun(qs_df[\"question\"].iloc[int(self.fields[0])-1])     \n",
        "        # get word2vec embedding\n",
        "        ques_vec = word2vec(self.question, model_embedding)\n",
        "        # calculate total word similarity           \n",
        "        cand_vec = word2vec(self.fields[2:], model_embedding)\n",
        "        for word in cand_vec:\n",
        "            s = total_sim(word, ques_vec)        \n",
        "            scores.append(s)\n",
        "        ids = scores.index(max(scores))\n",
        "        ans = self.choices[ids]\n",
        "                  \n",
        "        return ans\n",
        "        \n",
        "         \n",
        "    def cos_simility(self):\n",
        "#         scores =[]     \n",
        "#         # get word2vec embedding\n",
        "#         ques_vec = word2vec(self.question, Go_model)\n",
        "#         # calculate total word similarity           \n",
        "#         cand_vec = word2vec(self.fields[2:], Go_model)\n",
        "#         for word in cand_vec:\n",
        "#             s = total_sim(word, ques_vec)        \n",
        "#             scores.append(s)\n",
        "#         ids = scores.index(max(scores))\n",
        "#         ans = self.choices[ids]   \n",
        "\n",
        "        ans=self.simility_cop(Go_model)\n",
        "        return ans\n",
        "    \n",
        "    \n",
        "    def myfile_simility(self):\n",
        "#         scores =[]\n",
        "#         tokens=remove_pun(qs_df[\"question\"].iloc[int(self.fields[0])-1])     \n",
        "#         # get word2vec embedding\n",
        "#         ques_vec = word2vec(self.question, my_models)\n",
        "#         # calculate total word similarity           \n",
        "#         cand_vec = word2vec(self.fields[2:], my_models)\n",
        "#         for word in cand_vec:\n",
        "#             s = total_sim(word, ques_vec)        \n",
        "#             scores.append(s)\n",
        "#         ids = scores.index(max(scores))\n",
        "#         ans = self.choices[ids]\n",
        "        ans=self.simility_cop(my_models)         \n",
        "        return ans\n",
        "        \n",
        "      \n",
        "    def ungram_prediction(self):\n",
        "        \n",
        "        dicts={}\n",
        "        dicts2={}\n",
        "        for num,anw in enumerate(self.fields[2:]):\n",
        "#             dicts[anw]=self.my_lag.kn.get(anw,0)\n",
        "#             dicts[anw]=self.my_lag.get(anw,0)\n",
        "            dicts[num]=self.my_lag.get_prob(anw)\n",
        "    \n",
        "        mostlikely=sorted(list(dicts.items()),key=operator.itemgetter(1),reverse=True)\n",
        "\n",
        "        return self.ansd[mostlikely[0][0]]\n",
        "    \n",
        "    def bigram_prediction(self):\n",
        "        dicts={}\n",
        "        dicts3={}\n",
        "        for num,anw in enumerate(self.fields[2:]):\n",
        "            later=qs_df.iloc[int(self.fields[0])-1][8:][1]\n",
        "            dicts=self.my_lag.bigram.get(anw,0)\n",
        "\n",
        "            if dicts!=0:\n",
        "                dicts=dicts.get(later[0],0)\n",
        "                dicts3[num]=dicts\n",
        "            else:\n",
        "                dicts3[num]=dicts\n",
        "\n",
        "        mostlikely=sorted(list(dicts3.items()),key=operator.itemgetter(1),reverse=True)  \n",
        "     \n",
        "        return self.ansd[mostlikely[0][0]]\n",
        "      \n",
        "    def bigram_prediction_kn(self):\n",
        "        dicts={}\n",
        "        dicts3={}\n",
        "        for num,anw in enumerate(self.fields[2:]):\n",
        "            later=qs_df.iloc[int(self.fields[0])-1][8][-1]\n",
        "            dicts3[num]=self.my_lag.get_prob(anw,context=later[0],methodparams={\"method\":\"bigram\",\"smoothing\":\"kneser-ney\"})\n",
        "            \n",
        "        mostlikely=sorted(list(dicts3.items()),key=operator.itemgetter(1),reverse=True)  \n",
        "     \n",
        "        return self.ansd[mostlikely[0][0]]\n",
        "    \n",
        "    def bigram_prediction_o(self):\n",
        "        dicts={}\n",
        "        dicts3={}\n",
        "        for num,anw in enumerate(self.fields[2:]):\n",
        "            later=qs_df.iloc[int(self.fields[0])-1][8:][1]\n",
        "            dicts3[num]=self.my_lag.get_prob(anw,context=later[0],methodparams={\"method\":\"bigram\",\"smoothing\":\"o\"})\n",
        "            \n",
        "        mostlikely=sorted(list(dicts3.items()),key=operator.itemgetter(1),reverse=True)  \n",
        "     \n",
        "        return self.ansd[mostlikely[0][0]]\n",
        "    \n",
        "    def go_model(self):\n",
        "#         print('bigram_prediction_previous')\n",
        "        dicts3={}\n",
        "        for num,anw in enumerate(self.fields[2:]):\n",
        "            pre_word1=qs_df.iloc[int(self.fields[0])-1][8:][0]\n",
        "            pre_word2=qs_df.iloc[int(self.fields[0])-1][8:][1]     \n",
        "      \n",
        "            try:\n",
        "                dicts3[num]=Go_model.wv.similarity(pre_word2[0],anw)          \n",
        "            except KeyError:\n",
        "                dicts3[num]=0\n",
        "                   \n",
        "        mostlikely=sorted(list(dicts3.items()),key=operator.itemgetter(1),reverse=True)  \n",
        "        return self.ansd[mostlikely[0][0]]\n",
        "    \n",
        "        return self.ansd[mostlikely[0][0]]\n",
        "    def predict(self,method=\"bigram_prediction\"):\n",
        "        #eventually there will be lots of methods to choose from      \n",
        "        self.zore_count=0\n",
        "        \n",
        "        if method==\"trigrams\":\n",
        "            return self.trigrams()\n",
        "        elif method==\"cos_simility\":\n",
        "            return self.cos_simility()\n",
        "        elif method==\"myfile_simility\":\n",
        "            return self.myfile_simility()\n",
        "        elif method==\"ungram_prediction\":\n",
        "            return self.ungram_prediction()\n",
        "        elif method==\"bigram_prediction\":\n",
        "            return self.bigram_prediction()\n",
        "        elif method==\"go_model\":\n",
        "            return self.go_model()\n",
        "        elif method==\"bigram_prediction_lr\":\n",
        "            return self.bigram_prediction_lr()\n",
        "        elif method==\"bigram_prediction_kn\":\n",
        "            return self.bigram_prediction_kn()\n",
        "        elif method==\"bigram_prediction_o\":\n",
        "            return self.bigram_prediction_o()      \n",
        "        elif method==\"trigrams_k\":\n",
        "            return self.trigrams_k()\n",
        "        elif method==\"trigrams_o\":\n",
        "            return self.trigrams_o()\n",
        "        else: \n",
        "            return 'Please choose one method!' \n",
        "        \n",
        "    def predict_and_score(self,dataset,method=\"chooseA\"):\n",
        "        self.my_lag=dataset\n",
        "        #compare prediction according to method with the correct answer\n",
        "        #return 1 or 0 accordingly\n",
        "        prediction=self.predict(method=method)        \n",
        "        if prediction ==self.answer:\n",
        "#             print(prediction,self.answer)\n",
        "            return 1\n",
        "        else:\n",
        "#             print(prediction,self.answer)\n",
        "            return 0"
      ],
      "execution_count": 0,
      "outputs": []
    },
    {
      "cell_type": "code",
      "metadata": {
        "id": "PfqxqBWbUqUC",
        "colab_type": "code",
        "colab": {}
      },
      "source": [
        "SCC=scc_reader()"
      ],
      "execution_count": 0,
      "outputs": []
    },
    {
      "cell_type": "code",
      "metadata": {
        "id": "KpCtu_fbUqUE",
        "colab_type": "code",
        "colab": {}
      },
      "source": [
        "sdgram_score={}\n",
        "un_score=SCC.predict_and_score(my_lag_800,method=\"ungram_prediction\")\n",
        "sdgram_score['ungram1000']=un_score\n",
        "un_score=SCC.predict_and_score(my_lag_800,method=\"bigram_prediction\")\n",
        "sdgram_score['bigram1000']=un_score\n",
        "un_score=SCC.predict_and_score(my_lag_800,method=\"bigram_prediction_kn\")\n",
        "sdgram_score['kbigram1000']=un_score\n",
        "un_score=SCC.predict_and_score(my_lag_800,method=\"bigram_prediction_o\")\n",
        "sdgram_score['sbigram1000']=un_score\n",
        "un_score=SCC.predict_and_score(my_lag_800,method=\"trigrams_o\")\n",
        "sdgram_score['strigram1000']=un_score\n",
        "un_score=SCC.predict_and_score(my_lag_800,method=\"trigrams_k\")\n",
        "sdgram_score['ktrigram1000']=un_score\n",
        "un_score=SCC.predict_and_score(my_lag_800,method=\"trigrams\")\n",
        "sdgram_score['trigram1000']=un_score"
      ],
      "execution_count": 0,
      "outputs": []
    },
    {
      "cell_type": "code",
      "metadata": {
        "id": "9Ku7EDViUqUG",
        "colab_type": "code",
        "colab": {}
      },
      "source": [
        "sdgram_score\n",
        "import pickle\n",
        "with open(\"ngram_score_1000.txt\", \"wb\") as fp:   #Pickling\n",
        "    pickle.dump(sdgram_score, fp)"
      ],
      "execution_count": 0,
      "outputs": []
    },
    {
      "cell_type": "code",
      "metadata": {
        "id": "_Z5z1fE-UqUK",
        "colab_type": "code",
        "colab": {}
      },
      "source": [
        "import pickle\n",
        "with open(\"un400.txt\", \"rb\") as fp:   # Unpickling\n",
        "      un400 = pickle.load(fp)\n",
        "    \n",
        "with open(\"bi400.txt\", \"rb\") as fp:   # Unpickling\n",
        "      bi400 = pickle.load(fp)"
      ],
      "execution_count": 0,
      "outputs": []
    },
    {
      "cell_type": "code",
      "metadata": {
        "id": "ACGcJgj_UqUM",
        "colab_type": "code",
        "colab": {}
      },
      "source": [
        "ugram_score={}\n",
        "un_score=SCC.predict_and_score(my_lag_100,method=\"ungram_prediction\")\n",
        "ugram_score['ungram100']=un_score\n",
        "un_score=SCC.predict_and_score(my_lag_200,method=\"ungram_prediction\")\n",
        "ugram_score['ungram200']=un_score\n",
        "un_score=SCC.predict_and_score(my_lag_400,method=\"ungram_prediction\")\n",
        "ugram_score['ungram400']=un_score\n",
        "un_score=SCC.predict_and_score(my_lag_600,method=\"ungram_prediction\")\n",
        "ugram_score['ungram600']=un_score\n",
        "un_score=SCC.predict_and_score(my_lag_800,method=\"ungram_prediction\")\n",
        "ugram_score['ungram800']=un_score"
      ],
      "execution_count": 0,
      "outputs": []
    },
    {
      "cell_type": "code",
      "metadata": {
        "id": "pcHuDd5vUqUP",
        "colab_type": "code",
        "outputId": "d2629543-f3fb-4ca9-fb11-cc226d076b85",
        "colab": {}
      },
      "source": [
        "ugram_score"
      ],
      "execution_count": 0,
      "outputs": [
        {
          "output_type": "execute_result",
          "data": {
            "text/plain": [
              "{'ungram100': 0.24903846153846154,\n",
              " 'ungram200': 0.2528846153846154,\n",
              " 'ungram400': 0.24807692307692308,\n",
              " 'ungram600': 0.24903846153846154,\n",
              " 'ungram800': 0.25}"
            ]
          },
          "metadata": {
            "tags": []
          },
          "execution_count": 223
        }
      ]
    },
    {
      "cell_type": "markdown",
      "metadata": {
        "id": "S_SnpJIbUqUR",
        "colab_type": "text"
      },
      "source": [
        "### Bigram"
      ]
    },
    {
      "cell_type": "code",
      "metadata": {
        "id": "UU86_3A-UqUS",
        "colab_type": "code",
        "colab": {}
      },
      "source": [
        "bigram_score={}\n",
        "un_score=SCC.predict_and_score(my_lag_100,method=\"bigram_prediction\")\n",
        "bigram_score['bigram100']=un_score\n",
        "un_score=SCC.predict_and_score(my_lag_200,method=\"bigram_prediction\")\n",
        "bigram_score['bigram200']=un_score\n",
        "un_score=SCC.predict_and_score(my_lag_400,method=\"bigram_prediction\")\n",
        "bigram_score['bigram400']=un_score\n",
        "un_score=SCC.predict_and_score(my_lag_600,method=\"bigram_prediction\")\n",
        "bigram_score['bigram600']=un_score\n",
        "un_score=SCC.predict_and_score(my_lag_800,method=\"bigram_prediction\")\n",
        "bigram_score['bigram800']=un_score"
      ],
      "execution_count": 0,
      "outputs": []
    },
    {
      "cell_type": "code",
      "metadata": {
        "id": "_LNETwIPUqUW",
        "colab_type": "code",
        "outputId": "bd1a26f8-1fcf-4ba6-942b-915605f40ad4",
        "colab": {}
      },
      "source": [
        "bigram_score"
      ],
      "execution_count": 0,
      "outputs": [
        {
          "output_type": "execute_result",
          "data": {
            "text/plain": [
              "{'bigram100': 0.20096153846153847,\n",
              " 'bigram200': 0.20096153846153847,\n",
              " 'bigram400': 0.20192307692307693,\n",
              " 'bigram600': 0.20576923076923076,\n",
              " 'bigram800': 0.20865384615384616}"
            ]
          },
          "metadata": {
            "tags": []
          },
          "execution_count": 326
        }
      ]
    },
    {
      "cell_type": "markdown",
      "metadata": {
        "id": "pVtuTFORUqUY",
        "colab_type": "text"
      },
      "source": [
        "### bigran_k"
      ]
    },
    {
      "cell_type": "code",
      "metadata": {
        "id": "pV-OgtWpUqUZ",
        "colab_type": "code",
        "colab": {}
      },
      "source": [
        "kbigram_score={}\n",
        "un_score=SCC.predict_and_score(my_lag_100,method=\"bigram_prediction_kn\")\n",
        "kbigram_score['kbigram100']=un_score\n",
        "un_score=SCC.predict_and_score(my_lag_200,method=\"bigram_prediction_kn\")\n",
        "kbigram_score['kbigram200']=un_score\n",
        "un_score=SCC.predict_and_score(my_lag_400,method=\"bigram_prediction_kn\")\n",
        "kbigram_score['kbigram400']=un_score\n",
        "un_score=SCC.predict_and_score(my_lag_600,method=\"bigram_prediction_kn\")\n",
        "kbigram_score['kbigram600']=un_score\n",
        "un_score=SCC.predict_and_score(my_lag_800,method=\"bigram_prediction_kn\")\n",
        "kbigram_score['kbigram800']=un_score"
      ],
      "execution_count": 0,
      "outputs": []
    },
    {
      "cell_type": "code",
      "metadata": {
        "id": "pWGW70NqUqUb",
        "colab_type": "code",
        "outputId": "f68b9cb8-e4a5-4b77-bd3e-1019a6cacbf7",
        "colab": {}
      },
      "source": [
        "kbigram_score"
      ],
      "execution_count": 0,
      "outputs": [
        {
          "output_type": "execute_result",
          "data": {
            "text/plain": [
              "{'kbigram100': 0.24326923076923077,\n",
              " 'kbigram200': 0.25384615384615383,\n",
              " 'kbigram400': 0.2644230769230769,\n",
              " 'kbigram600': 0.26153846153846155,\n",
              " 'kbigram800': 0.25096153846153846}"
            ]
          },
          "metadata": {
            "tags": []
          },
          "execution_count": 328
        }
      ]
    },
    {
      "cell_type": "markdown",
      "metadata": {
        "id": "j8pcVek-UqUf",
        "colab_type": "text"
      },
      "source": [
        "### bigram_s"
      ]
    },
    {
      "cell_type": "code",
      "metadata": {
        "id": "wSlvuwC6UqUg",
        "colab_type": "code",
        "colab": {}
      },
      "source": [
        "sbigram_score={}\n",
        "un_score=SCC.predict_and_score(my_lag_100,method=\"bigram_prediction_o\")\n",
        "sbigram_score['sbigram100']=un_score\n",
        "un_score=SCC.predict_and_score(my_lag_200,method=\"bigram_prediction_o\")\n",
        "sbigram_score['sbigram200']=un_score\n",
        "un_score=SCC.predict_and_score(my_lag_400,method=\"bigram_prediction_o\")\n",
        "sbigram_score['sbigram400']=un_score\n",
        "un_score=SCC.predict_and_score(my_lag_600,method=\"bigram_prediction_o\")\n",
        "sbigram_score['sbigram600']=un_score\n",
        "un_score=SCC.predict_and_score(my_lag_800,method=\"bigram_prediction_o\")\n",
        "sbigram_score['sbigram800']=un_score"
      ],
      "execution_count": 0,
      "outputs": []
    },
    {
      "cell_type": "code",
      "metadata": {
        "id": "hdD7yrtLUqUi",
        "colab_type": "code",
        "outputId": "a676a047-b798-416f-87b4-bd2bd7438a4f",
        "colab": {}
      },
      "source": [
        "sbigram_score"
      ],
      "execution_count": 0,
      "outputs": [
        {
          "output_type": "execute_result",
          "data": {
            "text/plain": [
              "{'sbigram100': 0.25384615384615383,\n",
              " 'sbigram200': 0.25576923076923075,\n",
              " 'sbigram400': 0.2586538461538462,\n",
              " 'sbigram600': 0.25384615384615383,\n",
              " 'sbigram800': 0.2519230769230769}"
            ]
          },
          "metadata": {
            "tags": []
          },
          "execution_count": 330
        }
      ]
    },
    {
      "cell_type": "markdown",
      "metadata": {
        "id": "Yv_4Xxl4UqUk",
        "colab_type": "text"
      },
      "source": [
        "### Trigram"
      ]
    },
    {
      "cell_type": "code",
      "metadata": {
        "id": "BZGVjZ7DUqUl",
        "colab_type": "code",
        "colab": {}
      },
      "source": [
        "trigram_score={}\n",
        "un_score=SCC.predict_and_score(my_lag_100,method=\"trigrams\")\n",
        "trigram_score['trigram100']=un_score\n",
        "un_score=SCC.predict_and_score(my_lag_200,method=\"trigrams\")\n",
        "trigram_score['trigram200']=un_score\n",
        "un_score=SCC.predict_and_score(my_lag_400,method=\"trigrams\")\n",
        "trigram_score['trigram400']=un_score\n",
        "un_score=SCC.predict_and_score(my_lag_600,method=\"trigrams\")\n",
        "trigram_score['trigram600']=un_score\n",
        "un_score=SCC.predict_and_score(my_lag_800,method=\"trigrams\")\n",
        "trigram_score['trigram800']=un_score"
      ],
      "execution_count": 0,
      "outputs": []
    },
    {
      "cell_type": "code",
      "metadata": {
        "id": "UTkavhKuUqUp",
        "colab_type": "code",
        "outputId": "9269c3d0-26c6-4d62-a1c6-46cb8aee07b1",
        "colab": {}
      },
      "source": [
        "trigram_score"
      ],
      "execution_count": 0,
      "outputs": [
        {
          "output_type": "execute_result",
          "data": {
            "text/plain": [
              "{'trigram100': 0.20192307692307693,\n",
              " 'trigram200': 0.20288461538461539,\n",
              " 'trigram400': 0.20384615384615384,\n",
              " 'trigram600': 0.20096153846153847,\n",
              " 'trigram800': 0.20096153846153847}"
            ]
          },
          "metadata": {
            "tags": []
          },
          "execution_count": 339
        }
      ]
    },
    {
      "cell_type": "code",
      "metadata": {
        "id": "RJNI8CQ8UqUt",
        "colab_type": "code",
        "colab": {}
      },
      "source": [
        "strigram_score={}\n",
        "un_score=SCC.predict_and_score(my_lag_100,method=\"trigrams_o\")\n",
        "strigram_score['strigram100']=un_score\n",
        "un_score=SCC.predict_and_score(my_lag_200,method=\"trigrams_o\")\n",
        "strigram_score['strigram200']=un_score\n",
        "un_score=SCC.predict_and_score(my_lag_400,method=\"trigrams_o\")\n",
        "strigram_score['strigram400']=un_score\n",
        "un_score=SCC.predict_and_score(my_lag_600,method=\"trigrams_o\")\n",
        "strigram_score['strigram600']=un_score\n",
        "un_score=SCC.predict_and_score(my_lag_800,method=\"trigrams_o\")\n",
        "strigram_score['strigram800']=un_score"
      ],
      "execution_count": 0,
      "outputs": []
    },
    {
      "cell_type": "code",
      "metadata": {
        "id": "5QbyzprXUqUw",
        "colab_type": "code",
        "outputId": "b9f5e52f-b9df-4438-d228-2bcb1c4ce9ed",
        "colab": {}
      },
      "source": [
        "strigram_score"
      ],
      "execution_count": 0,
      "outputs": [
        {
          "output_type": "execute_result",
          "data": {
            "text/plain": [
              "{'strigram100': 0.24903846153846154,\n",
              " 'strigram200': 0.2528846153846154,\n",
              " 'strigram400': 0.24807692307692308,\n",
              " 'strigram600': 0.24903846153846154,\n",
              " 'strigram800': 0.25}"
            ]
          },
          "metadata": {
            "tags": []
          },
          "execution_count": 340
        }
      ]
    },
    {
      "cell_type": "code",
      "metadata": {
        "id": "S0mycTPuUqUy",
        "colab_type": "code",
        "colab": {}
      },
      "source": [
        "ktrigram_score={}\n",
        "un_score=SCC.predict_and_score(my_lag_100,method=\"trigrams_k\")\n",
        "ktrigram_score['ktrigram100']=un_score\n",
        "un_score=SCC.predict_and_score(my_lag_200,method=\"trigrams_k\")\n",
        "ktrigram_score['ktrigram200']=un_score\n",
        "un_score=SCC.predict_and_score(my_lag_400,method=\"trigrams_k\")\n",
        "ktrigram_score['ktrigram400']=un_score\n",
        "un_score=SCC.predict_and_score(my_lag_600,method=\"trigrams_k\")\n",
        "ktrigram_score['ktrigram600']=un_score\n",
        "un_score=SCC.predict_and_score(my_lag_800,method=\"trigrams_k\")\n",
        "ktrigram_score['ktrigram800']=un_score"
      ],
      "execution_count": 0,
      "outputs": []
    },
    {
      "cell_type": "code",
      "metadata": {
        "id": "Rugh5oSzUqU0",
        "colab_type": "code",
        "outputId": "f3470ace-e873-479c-e5b8-bf0dc70ea0dc",
        "colab": {}
      },
      "source": [
        "ktrigram_score"
      ],
      "execution_count": 0,
      "outputs": [
        {
          "output_type": "execute_result",
          "data": {
            "text/plain": [
              "{'ktrigram100': 0.24326923076923077,\n",
              " 'ktrigram200': 0.2519230769230769,\n",
              " 'ktrigram400': 0.26153846153846155,\n",
              " 'ktrigram600': 0.25961538461538464,\n",
              " 'ktrigram800': 0.2519230769230769}"
            ]
          },
          "metadata": {
            "tags": []
          },
          "execution_count": 341
        }
      ]
    },
    {
      "cell_type": "code",
      "metadata": {
        "id": "ltKY5Rk5UqU3",
        "colab_type": "code",
        "colab": {}
      },
      "source": [
        "go_score=SCC.predict_and_score(0,method=\"go_model\")\n",
        "cos_score=SCC.predict_and_score(0,method=\"cos_simility\")\n",
        "myfile_score=SCC.predict_and_score(0,method=\"myfile_simility\")"
      ],
      "execution_count": 0,
      "outputs": []
    },
    {
      "cell_type": "markdown",
      "metadata": {
        "id": "G67KAO_tUqU4",
        "colab_type": "text"
      },
      "source": [
        "### mix"
      ]
    },
    {
      "cell_type": "code",
      "metadata": {
        "id": "lAJOuMPFUqU5",
        "colab_type": "code",
        "colab": {}
      },
      "source": [
        "# dic_score={}\n",
        "# un_score=SCC.predict_and_score(un400,method=\"ungram_prediction\")\n",
        "# dic_score['ungram']=un_score\n",
        "# bi_score=SCC.predict_and_score(bi400,method=\"bigram_prediction\")\n",
        "# dic_score['bigram']=bi_score\n",
        "# tri_score=SCC.predict_and_score(0,method=\"trigrams\")\n",
        "# dic_score['trigrams']=tri_score\n",
        "# cos_score=SCC.predict_and_score(0,method=\"cos_simility\")\n",
        "# dic_score['cos_simility']=cos_score\n",
        "# lstm_score=SCC.predict_and_score(0,method=\"lstm_predict\")\n",
        "# dic_score['lstm']=lstm_score\n",
        "# go_score=SCC.predict_and_score(0,method=\"go_model\")\n",
        "# dic_score['GoogleNews']=go_score"
      ],
      "execution_count": 0,
      "outputs": []
    },
    {
      "cell_type": "code",
      "metadata": {
        "id": "rYQONv5HUqU8",
        "colab_type": "code",
        "colab": {}
      },
      "source": [
        "# lstm_score=SCC.predict_and_score(0,method=\"lstm_predict\")"
      ],
      "execution_count": 0,
      "outputs": []
    },
    {
      "cell_type": "code",
      "metadata": {
        "id": "d7m253y5UqU_",
        "colab_type": "code",
        "colab": {}
      },
      "source": [
        "import pickle\n",
        "# with open(\"result400.txt\", \"wb\") as fp:   #Pickling\n",
        "#     pickle.dump(dic_score, fp)"
      ],
      "execution_count": 0,
      "outputs": []
    },
    {
      "cell_type": "code",
      "metadata": {
        "id": "ptxXRLn4UqVD",
        "colab_type": "code",
        "colab": {}
      },
      "source": [
        "with open(\"result400.txt\", \"rb\") as fp:   # Unpickling\n",
        "      result400 = pickle.load(fp)"
      ],
      "execution_count": 0,
      "outputs": []
    },
    {
      "cell_type": "code",
      "metadata": {
        "id": "Z_1g2sP2UqVN",
        "colab_type": "code",
        "outputId": "8bb439fc-ce56-42fe-9395-07f65fb3ce66",
        "colab": {}
      },
      "source": [
        "result400"
      ],
      "execution_count": 0,
      "outputs": [
        {
          "output_type": "execute_result",
          "data": {
            "text/plain": [
              "{'ungram': 0.2528846153846154,\n",
              " 'bigram': 0.2125,\n",
              " 'trigrams': 0.19903846153846153,\n",
              " 'cos_simility': 0.22403846153846155,\n",
              " 'lstm': 0.18557692307692308,\n",
              " 'GoogleNews': 0.2519230769230769}"
            ]
          },
          "metadata": {
            "tags": []
          },
          "execution_count": 18
        }
      ]
    },
    {
      "cell_type": "code",
      "metadata": {
        "id": "pT899Y5gUqVR",
        "colab_type": "code",
        "colab": {}
      },
      "source": [
        "import numpy as np\n",
        "import pandas as pd \n",
        "import matplotlib.pyplot as plt\n",
        "import seaborn as sns\n",
        "\n",
        "%matplotlib inline"
      ],
      "execution_count": 0,
      "outputs": []
    },
    {
      "cell_type": "code",
      "metadata": {
        "id": "69JEqRqBUqVV",
        "colab_type": "code",
        "colab": {}
      },
      "source": [
        "# simility_score=SCC.predict_and_score(0,method=\"predict_simility\")"
      ],
      "execution_count": 0,
      "outputs": []
    },
    {
      "cell_type": "code",
      "metadata": {
        "id": "rw1yqah8UqVZ",
        "colab_type": "code",
        "colab": {}
      },
      "source": [
        "result400=sorted(list(result400.items()),key=operator.itemgetter(1),reverse=True)  "
      ],
      "execution_count": 0,
      "outputs": []
    },
    {
      "cell_type": "code",
      "metadata": {
        "id": "qFequOqwUqVf",
        "colab_type": "code",
        "colab": {}
      },
      "source": [
        "x=list(result400.keys())\n",
        "y=list(result400.values())"
      ],
      "execution_count": 0,
      "outputs": []
    },
    {
      "cell_type": "code",
      "metadata": {
        "id": "GqPBeMwAUqVh",
        "colab_type": "code",
        "colab": {}
      },
      "source": [
        "pd_results=pd.DataFrame({'x':x,'y':y})"
      ],
      "execution_count": 0,
      "outputs": []
    },
    {
      "cell_type": "code",
      "metadata": {
        "id": "C55eI6kNUqVi",
        "colab_type": "code",
        "colab": {}
      },
      "source": [
        "pd_results=pd_results.sort_values(by='y')"
      ],
      "execution_count": 0,
      "outputs": []
    },
    {
      "cell_type": "code",
      "metadata": {
        "id": "GIx4lhHnUqVk",
        "colab_type": "code",
        "colab": {}
      },
      "source": [
        "import pickle\n",
        "with open(\"ngram_score.txt\", \"wb\") as fp:   #Pickling\n",
        "    pickle.dump(addd, fp)"
      ],
      "execution_count": 0,
      "outputs": []
    },
    {
      "cell_type": "code",
      "metadata": {
        "id": "POPMSJS3UqVl",
        "colab_type": "code",
        "colab": {}
      },
      "source": [
        "with open(\"ngram_score.txt\", \"rb\") as fp:   # Unpickling\n",
        "      result_n = pickle.load(fp)"
      ],
      "execution_count": 0,
      "outputs": []
    },
    {
      "cell_type": "code",
      "metadata": {
        "id": "iMg33mTSUqVn",
        "colab_type": "code",
        "outputId": "d4123848-a6bc-48f6-ae9c-96710f981abe",
        "colab": {}
      },
      "source": [
        "result_n"
      ],
      "execution_count": 0,
      "outputs": [
        {
          "output_type": "execute_result",
          "data": {
            "text/plain": [
              "{'ungram100': 0.24326923076923077,\n",
              " 'ungram200': 0.2403846153846154,\n",
              " 'ungram400': 0.25,\n",
              " 'ungram600': 0.2528846153846154,\n",
              " 'ungram800': 0.25,\n",
              " 'bigram100': 0.20865384615384616,\n",
              " 'bigram200': 0.2326923076923077,\n",
              " 'bigram400': 0.21923076923076923,\n",
              " 'bigram600': 0.2144230769230769,\n",
              " 'bigram800': 0.2201923076923077,\n",
              " 'kbigram100': 0.2326923076923077,\n",
              " 'kbigram200': 0.2298076923076923,\n",
              " 'kbigram400': 0.23653846153846153,\n",
              " 'kbigram600': 0.2403846153846154,\n",
              " 'kbigram800': 0.24134615384615385,\n",
              " 'sbigram100': 0.22692307692307692,\n",
              " 'sbigram200': 0.2230769230769231,\n",
              " 'sbigram400': 0.2326923076923077,\n",
              " 'sbigram600': 0.2403846153846154,\n",
              " 'sbigram800': 0.23653846153846153,\n",
              " 'trigram100': 0.20192307692307693,\n",
              " 'trigram200': 0.20384615384615384,\n",
              " 'trigram400': 0.20192307692307693,\n",
              " 'trigram600': 0.2,\n",
              " 'trigram800': 0.20096153846153847,\n",
              " 'strigram100': 0.24326923076923077,\n",
              " 'strigram200': 0.2403846153846154,\n",
              " 'strigram400': 0.25,\n",
              " 'strigram600': 0.2528846153846154,\n",
              " 'strigram800': 0.25,\n",
              " 'ktrigram100': 0.24326923076923077,\n",
              " 'ktrigram200': 0.24615384615384617,\n",
              " 'ktrigram400': 0.25769230769230766,\n",
              " 'ktrigram600': 0.25576923076923075,\n",
              " 'ktrigram800': 0.25096153846153846}"
            ]
          },
          "metadata": {
            "tags": []
          },
          "execution_count": 21
        }
      ]
    },
    {
      "cell_type": "markdown",
      "metadata": {
        "id": "gdknQGm5UqVp",
        "colab_type": "text"
      },
      "source": [
        "### Language model"
      ]
    },
    {
      "cell_type": "markdown",
      "metadata": {
        "id": "FDioVe4PUqVq",
        "colab_type": "text"
      },
      "source": [
        "In my assignment, my first approach is a tri-gram model for the Microsoft Research Sentence Completion Challenge (Zweig and Burges, 2011). For a language model goal, it is computer the probability of a sentence as follow: $P(W) = P(w1, w2, … , wn)$ If the result probability is higher, it means the occurrence of the sequence is more reasonable. However, the probability can not directly compute. Therefore, the chain rule was used to compute the probability. The definition of conditional probabilities is $P(A,B)=P(A)P(B|A)$. If we compute more variables as follow: $PA,B,C,D=P(A)P(B|A)P(C|A,B)P(D|A,B,C)$ For gener case, it is $𝑃(w_1,w_2,w_3,…,w_𝑛 )=𝑃(w_1 )𝑃(w_2│w_1 )𝑃(w_3│w_1,w_2 )…𝑃(w_𝑛 |w_1,…,w_{𝑛−1})$  However, it is challenging to compute probabilities. Therefore, the Markov Assumption is to employ. The probability of each word appearing is only related to a few words in front of it. For example, the second-order Markov assumption considers only the first two words, and the corresponding language model is a ternary model. A Markov chain is a stochastic process in a state space that transitions from one state to another. The current state can only determine the probability distribution of the next state, and the events before it in the time series are irrelevant. That is to say, applying this assumption indicates that the current word is only related to the first few limited words, so it is not necessary to compare back to the first word so that the length of the above formula can be significantly reduced. The formula becomes like this: $p(w_{1},w_{2},...,w_{n})=p(w_{i}|w_{i-m+1, ...,w_{i-1}})$"
      ]
    },
    {
      "cell_type": "markdown",
      "metadata": {
        "id": "LrJ0lSykUqVr",
        "colab_type": "text"
      },
      "source": [
        "### N-gram language model"
      ]
    },
    {
      "cell_type": "markdown",
      "metadata": {
        "id": "4botc8fzUqVs",
        "colab_type": "text"
      },
      "source": [
        "$𝑃(𝑤_1,𝑤_2,𝑤_3,…,𝑤_𝑘 )=∏_{𝑖=1}^{𝑘}𝑃(𝑤_𝑖│𝑤_{𝑖−(𝑛−1)},…,𝑤_{𝑖−1})$\n"
      ]
    },
    {
      "cell_type": "markdown",
      "metadata": {
        "id": "sHpATEZkUqVu",
        "colab_type": "text"
      },
      "source": [
        "\n",
        "unigram model  \n",
        "where N is 1:  \n",
        "$𝑃(𝑤_1,𝑤_2,𝑤_3,…,𝑤_𝑘 )=∏_{𝑖=1}^{𝑘}𝑃 (𝑤_𝑖)$\n"
      ]
    },
    {
      "cell_type": "code",
      "metadata": {
        "id": "yjXv0gX7UqVv",
        "colab_type": "code",
        "outputId": "617b8a29-fed1-471d-e09e-54dc623f0704",
        "colab": {}
      },
      "source": [
        "sns.set(style=\"darkgrid\")\n",
        "\n",
        "# Set up the matplotlib figure\n",
        "plt.figure(figsize=(7, 4))\n",
        "sns.pointplot(x=list(ugram_score.keys()),y=list(ugram_score.values()))"
      ],
      "execution_count": 0,
      "outputs": [
        {
          "output_type": "execute_result",
          "data": {
            "text/plain": [
              "<matplotlib.axes._subplots.AxesSubplot at 0x1d81f4d390>"
            ]
          },
          "metadata": {
            "tags": []
          },
          "execution_count": 149
        },
        {
          "output_type": "display_data",
          "data": {
            "image/png": "[encoded data removed]",
            "text/plain": [
              "<Figure size 504x288 with 1 Axes>"
            ]
          },
          "metadata": {
            "tags": []
          }
        }
      ]
    },
    {
      "cell_type": "markdown",
      "metadata": {
        "id": "l5yyxJHJUqVw",
        "colab_type": "text"
      },
      "source": [
        "Bigram model\n",
        "\n",
        "where N is 2:\n",
        "\n",
        "$𝑃(𝑤_1,𝑤_2,𝑤_3,…,𝑤_𝑘 )=∏_{𝑖=1}^{𝑘}𝑃 (𝑤_𝑖|w_{i-1})$"
      ]
    },
    {
      "cell_type": "code",
      "metadata": {
        "id": "OeDsfexsUqVx",
        "colab_type": "code",
        "outputId": "a4d5fcbb-4a13-4f0d-edf9-72ad8e8e444e",
        "colab": {}
      },
      "source": [
        "sns.set(style=\"darkgrid\")\n",
        "# Set up the matplotlib figure\n",
        "# f, ax1 = plt.subplots(2, 2, figsize=(15, 6), sharex=True)\n",
        "plt.figure(figsize=(15, 6))\n",
        "plt.subplot(221)\n",
        "plt.title('bigram')\n",
        "sns.pointplot(x=list(bigram_score.keys()),y=list(bigram_score.values()))\n",
        "plt.subplot(222)\n",
        "plt.title('bigram kneser-ney')\n",
        "sns.pointplot(x=list(kbigram_score.keys()),y=list(kbigram_score.values()))\n",
        "plt.subplot(223)\n",
        "plt.title('bigram smoothing')\n",
        "sns.pointplot(x=list(sbigram_score.keys()),y=list(sbigram_score.values()))"
      ],
      "execution_count": 0,
      "outputs": [
        {
          "output_type": "execute_result",
          "data": {
            "text/plain": [
              "<matplotlib.axes._subplots.AxesSubplot at 0x1d7ed59da0>"
            ]
          },
          "metadata": {
            "tags": []
          },
          "execution_count": 142
        },
        {
          "output_type": "display_data",
          "data": {
            "image/png": "[encoded data removed]",
            "text/plain": [
              "<Figure size 1080x432 with 3 Axes>"
            ]
          },
          "metadata": {
            "tags": []
          }
        }
      ]
    },
    {
      "cell_type": "markdown",
      "metadata": {
        "id": "inwNrtRhUqVy",
        "colab_type": "text"
      },
      "source": [
        "Trigram model\n",
        "\n",
        "where N is 3:\n",
        "\n",
        "$𝑃(𝑤_1,𝑤_2,𝑤_3,…,𝑤_𝑘 )=∏_{𝑖=1}^{𝑘}𝑃 (𝑤_𝑖|w_{i-1}w_{i-1})$"
      ]
    },
    {
      "cell_type": "code",
      "metadata": {
        "id": "YpSyK9T4UqVz",
        "colab_type": "code",
        "outputId": "34ea585c-c17f-4c2a-c867-27a56c97180c",
        "colab": {}
      },
      "source": [
        "sns.set(style=\"darkgrid\")\n",
        "# Set up the matplotlib figure\n",
        "plt.figure(figsize=(15, 6))\n",
        "plt.subplot(221)\n",
        "plt.title('trigrams')\n",
        "sns.pointplot(x=list(trigram_score.keys()),y=list(trigram_score.values()))\n",
        "plt.subplot(222)\n",
        "plt.title('trigram kneser-ney')\n",
        "sns.pointplot(x=list(ktrigram_score.keys()),y=list(ktrigram_score.values()))\n",
        "plt.subplot(223)\n",
        "plt.title('trigram smoothing')\n",
        "sns.pointplot(x=list(strigram_score.keys()),y=list(strigram_score.values()))"
      ],
      "execution_count": 0,
      "outputs": [
        {
          "output_type": "execute_result",
          "data": {
            "text/plain": [
              "<matplotlib.axes._subplots.AxesSubplot at 0x1d83844cf8>"
            ]
          },
          "metadata": {
            "tags": []
          },
          "execution_count": 143
        },
        {
          "output_type": "display_data",
          "data": {
            "image/png": "[encoded data removed]",
            "text/plain": [
              "<Figure size 1080x432 with 3 Axes>"
            ]
          },
          "metadata": {
            "tags": []
          }
        }
      ]
    },
    {
      "cell_type": "markdown",
      "metadata": {
        "id": "Gjdcs8mUUqV1",
        "colab_type": "text"
      },
      "source": [
        "Producets of probabilites:\n",
        "\n",
        "when we use logs to compuate the probabilities, it not only can avoid underfolw but also computationally more efficient. Beacuse computing adding is easier than mutiplying $log(p_1xp_2x...p_n)=log(p_1)+log(p_2)+...+log(P_n)$"
      ]
    },
    {
      "cell_type": "code",
      "metadata": {
        "id": "gBRIJkZbUqV1",
        "colab_type": "code",
        "outputId": "8939c71b-17a8-4ab1-d877-ae0b64362a9d",
        "colab": {}
      },
      "source": [
        "import seaborn as sns\n",
        "import matplotlib.pyplot as plt\n",
        "import numpy as np\n",
        "\n",
        "df = sns.load_dataset(\"tips\")\n",
        "groupedvalues=df.groupby('day').sum().reset_index()\n",
        "\n",
        "pal = sns.color_palette(\"Greens_d\", len(groupedvalues))\n",
        "rank = groupedvalues[\"total_bill\"].argsort().argsort() \n",
        "g=sns.barplot(x='day',y='tip',data=groupedvalues, palette=np.array(pal[::-1])[rank])\n",
        "\n",
        "for index, row in groupedvalues.iterrows():\n",
        "    g.text(row.name,row.tip, round(row.tip,2), color='black', ha=\"center\")\n",
        "\n",
        "plt.show()"
      ],
      "execution_count": 0,
      "outputs": [
        {
          "output_type": "display_data",
          "data": {
            "image/png": "[encoded data removed]",
            "text/plain": [
              "<Figure size 432x288 with 1 Axes>"
            ]
          },
          "metadata": {
            "tags": []
          }
        }
      ]
    }
  ]
}
